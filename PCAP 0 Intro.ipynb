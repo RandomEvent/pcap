{
 "cells": [
  {
   "cell_type": "markdown",
   "id": "1a65a8a3",
   "metadata": {},
   "source": [
    "### Python PCAP\n",
    "The course is divided into 4 modules:\n",
    "\n",
    "Module 1\n",
    "Modules, Packages and PIP;\n",
    "\n",
    "Module 2\n",
    "Strings, string and list methods, and exceptions;\n",
    "\n",
    "Module 3\n",
    "Object-Oriented Programming;\n",
    "\n",
    "Module 4\n",
    "Miscellaneous (generators, iterators, closures, file streams, processing text and binary files, the os, time, datetime, and calendar module)"
   ]
  },
  {
   "cell_type": "code",
   "execution_count": null,
   "id": "e50f2993",
   "metadata": {},
   "outputs": [],
   "source": [
    "import math, sys"
   ]
  },
  {
   "cell_type": "code",
   "execution_count": null,
   "id": "52a9bea9",
   "metadata": {},
   "outputs": [],
   "source": [
    "import math\n",
    "\n",
    "\n",
    "def sin(x):\n",
    "    if 2 * x == pi:\n",
    "        return 0.99999999\n",
    "    else:\n",
    "        return None\n",
    "\n",
    "\n",
    "pi = 3.14\n",
    "\n",
    "print(sin(pi/2))\n",
    "print(math.sin(math.pi/2))\n"
   ]
  },
  {
   "cell_type": "code",
   "execution_count": 1,
   "id": "00ba9b4c",
   "metadata": {},
   "outputs": [
    {
     "name": "stdout",
     "output_type": "stream",
     "text": [
      "3.141592653589793\n"
     ]
    }
   ],
   "source": [
    "from math import pi\n",
    "print(pi)"
   ]
  },
  {
   "cell_type": "code",
   "execution_count": 2,
   "id": "3bb8105c",
   "metadata": {},
   "outputs": [
    {
     "name": "stdout",
     "output_type": "stream",
     "text": [
      "1.0\n",
      "0.99999999\n"
     ]
    }
   ],
   "source": [
    "from math import sin, pi\n",
    "\n",
    "print(sin(pi / 2))\n",
    "\n",
    "pi = 3.14\n",
    "\n",
    "\n",
    "def sin(x):\n",
    "    if 2 * x == pi:\n",
    "        return 0.99999999\n",
    "    else:\n",
    "        return None\n",
    "\n",
    "\n",
    "print(sin(pi / 2))\n"
   ]
  },
  {
   "cell_type": "code",
   "execution_count": 1,
   "id": "44cb55be",
   "metadata": {},
   "outputs": [],
   "source": [
    "from sklearn import *"
   ]
  },
  {
   "cell_type": "code",
   "execution_count": 2,
   "id": "649bfc4f",
   "metadata": {},
   "outputs": [],
   "source": [
    "import pandas as pd"
   ]
  },
  {
   "cell_type": "code",
   "execution_count": 3,
   "id": "f3226036",
   "metadata": {},
   "outputs": [
    {
     "data": {
      "text/plain": [
       "['ArrowDtype',\n",
       " 'BooleanDtype',\n",
       " 'Categorical',\n",
       " 'CategoricalDtype',\n",
       " 'CategoricalIndex',\n",
       " 'DataFrame',\n",
       " 'DateOffset',\n",
       " 'DatetimeIndex',\n",
       " 'DatetimeTZDtype',\n",
       " 'ExcelFile',\n",
       " 'ExcelWriter',\n",
       " 'Flags',\n",
       " 'Float32Dtype',\n",
       " 'Float64Dtype',\n",
       " 'Grouper',\n",
       " 'HDFStore',\n",
       " 'Index',\n",
       " 'IndexSlice',\n",
       " 'Int16Dtype',\n",
       " 'Int32Dtype',\n",
       " 'Int64Dtype',\n",
       " 'Int8Dtype',\n",
       " 'Interval',\n",
       " 'IntervalDtype',\n",
       " 'IntervalIndex',\n",
       " 'MultiIndex',\n",
       " 'NA',\n",
       " 'NaT',\n",
       " 'NamedAgg',\n",
       " 'Period',\n",
       " 'PeriodDtype',\n",
       " 'PeriodIndex',\n",
       " 'RangeIndex',\n",
       " 'Series',\n",
       " 'SparseDtype',\n",
       " 'StringDtype',\n",
       " 'Timedelta',\n",
       " 'TimedeltaIndex',\n",
       " 'Timestamp',\n",
       " 'UInt16Dtype',\n",
       " 'UInt32Dtype',\n",
       " 'UInt64Dtype',\n",
       " 'UInt8Dtype',\n",
       " '__all__',\n",
       " '__builtins__',\n",
       " '__cached__',\n",
       " '__doc__',\n",
       " '__docformat__',\n",
       " '__file__',\n",
       " '__git_version__',\n",
       " '__loader__',\n",
       " '__name__',\n",
       " '__package__',\n",
       " '__path__',\n",
       " '__spec__',\n",
       " '__version__',\n",
       " '_config',\n",
       " '_is_numpy_dev',\n",
       " '_libs',\n",
       " '_testing',\n",
       " '_typing',\n",
       " '_version',\n",
       " 'annotations',\n",
       " 'api',\n",
       " 'array',\n",
       " 'arrays',\n",
       " 'bdate_range',\n",
       " 'compat',\n",
       " 'concat',\n",
       " 'core',\n",
       " 'crosstab',\n",
       " 'cut',\n",
       " 'date_range',\n",
       " 'describe_option',\n",
       " 'errors',\n",
       " 'eval',\n",
       " 'factorize',\n",
       " 'from_dummies',\n",
       " 'get_dummies',\n",
       " 'get_option',\n",
       " 'infer_freq',\n",
       " 'interval_range',\n",
       " 'io',\n",
       " 'isna',\n",
       " 'isnull',\n",
       " 'json_normalize',\n",
       " 'lreshape',\n",
       " 'melt',\n",
       " 'merge',\n",
       " 'merge_asof',\n",
       " 'merge_ordered',\n",
       " 'notna',\n",
       " 'notnull',\n",
       " 'offsets',\n",
       " 'option_context',\n",
       " 'options',\n",
       " 'pandas',\n",
       " 'period_range',\n",
       " 'pivot',\n",
       " 'pivot_table',\n",
       " 'plotting',\n",
       " 'qcut',\n",
       " 'read_clipboard',\n",
       " 'read_csv',\n",
       " 'read_excel',\n",
       " 'read_feather',\n",
       " 'read_fwf',\n",
       " 'read_gbq',\n",
       " 'read_hdf',\n",
       " 'read_html',\n",
       " 'read_json',\n",
       " 'read_orc',\n",
       " 'read_parquet',\n",
       " 'read_pickle',\n",
       " 'read_sas',\n",
       " 'read_spss',\n",
       " 'read_sql',\n",
       " 'read_sql_query',\n",
       " 'read_sql_table',\n",
       " 'read_stata',\n",
       " 'read_table',\n",
       " 'read_xml',\n",
       " 'reset_option',\n",
       " 'set_eng_float_format',\n",
       " 'set_option',\n",
       " 'show_versions',\n",
       " 'test',\n",
       " 'testing',\n",
       " 'timedelta_range',\n",
       " 'to_datetime',\n",
       " 'to_numeric',\n",
       " 'to_pickle',\n",
       " 'to_timedelta',\n",
       " 'tseries',\n",
       " 'unique',\n",
       " 'util',\n",
       " 'value_counts',\n",
       " 'wide_to_long']"
      ]
     },
     "execution_count": 3,
     "metadata": {},
     "output_type": "execute_result"
    }
   ],
   "source": [
    "dir(pd)"
   ]
  },
  {
   "cell_type": "code",
   "execution_count": 4,
   "id": "11c6e783",
   "metadata": {},
   "outputs": [
    {
     "name": "stdout",
     "output_type": "stream",
     "text": [
      "True\n",
      "True\n",
      "True\n",
      "True\n"
     ]
    }
   ],
   "source": [
    "from math import pi, radians, degrees, sin, cos, tan, asin\n",
    "\n",
    "ad = 90\n",
    "ar = radians(ad)\n",
    "ad = degrees(ar)\n",
    "\n",
    "print(ad == 90.)\n",
    "print(ar == pi / 2.)\n",
    "print(sin(ar) / cos(ar) == tan(ar))\n",
    "print(asin(sin(ar)) == ar)\n"
   ]
  },
  {
   "cell_type": "code",
   "execution_count": 5,
   "id": "9692b68b",
   "metadata": {},
   "outputs": [
    {
     "name": "stdout",
     "output_type": "stream",
     "text": [
      "True\n",
      "True\n",
      "True\n"
     ]
    }
   ],
   "source": [
    "from math import e, exp, log\n",
    "\n",
    "print(pow(e, 1) == exp(log(e)))\n",
    "print(pow(2, 2) == exp(2 * log(2)))\n",
    "print(log(e, e) == exp(0))\n"
   ]
  },
  {
   "cell_type": "code",
   "execution_count": 10,
   "id": "6056967f",
   "metadata": {},
   "outputs": [
    {
     "name": "stdout",
     "output_type": "stream",
     "text": [
      "1 2\n",
      "-2 -3\n",
      "2 3\n",
      "-1 -2\n",
      "1 2\n",
      "-1 -2\n"
     ]
    }
   ],
   "source": [
    "from math import ceil, floor, trunc\n",
    "\n",
    "x = 1.4\n",
    "y = 2.6\n",
    "\n",
    "print(floor(x), floor(y))\n",
    "print(floor(-x), floor(-y))\n",
    "print(ceil(x), ceil(y))\n",
    "print(ceil(-x), ceil(-y))\n",
    "print(trunc(x), trunc(y))\n",
    "print(trunc(-x), trunc(-y))\n"
   ]
  },
  {
   "cell_type": "code",
   "execution_count": 17,
   "id": "01376720",
   "metadata": {},
   "outputs": [
    {
     "name": "stdout",
     "output_type": "stream",
     "text": [
      "0.011843922993071576\n",
      "0.3081826537014599\n",
      "0.12224656639941123\n",
      "0.22750373731012796\n",
      "0.34820540388840426\n"
     ]
    }
   ],
   "source": [
    "from random import random\n",
    "\n",
    "for i in range(5):\n",
    "    print(random())\n",
    "\n"
   ]
  },
  {
   "cell_type": "code",
   "execution_count": 22,
   "id": "37e64c53",
   "metadata": {},
   "outputs": [
    {
     "name": "stdout",
     "output_type": "stream",
     "text": [
      "0.8444218515250481\n",
      "0.7579544029403025\n",
      "0.420571580830845\n",
      "0.25891675029296335\n",
      "0.5112747213686085\n"
     ]
    }
   ],
   "source": [
    "from random import random, seed\n",
    "\n",
    "seed(0)\n",
    "\n",
    "for i in range(5):\n",
    "    print(random())\n",
    "\n"
   ]
  },
  {
   "cell_type": "code",
   "execution_count": 83,
   "id": "83966ac6",
   "metadata": {},
   "outputs": [
    {
     "name": "stdout",
     "output_type": "stream",
     "text": [
      "1 3 17 1\n"
     ]
    }
   ],
   "source": [
    "from random import randrange, randint\n",
    "\n",
    "print(randrange(5), end=' ')\n",
    "print(randrange(2, 10), end=' ')\n",
    "print(randrange(2, 20), end=' ')\n",
    "print(randint(-5, 5))\n"
   ]
  },
  {
   "cell_type": "code",
   "execution_count": 84,
   "id": "a38ae143",
   "metadata": {},
   "outputs": [
    {
     "name": "stdout",
     "output_type": "stream",
     "text": [
      "2,1,5,8,2,5,3,9,6,2,"
     ]
    }
   ],
   "source": [
    "from random import randint\n",
    "\n",
    "for i in range(10):\n",
    "    print(randint(1, 10), end=',')\n",
    "\n"
   ]
  },
  {
   "cell_type": "code",
   "execution_count": 86,
   "id": "5a0652d3",
   "metadata": {},
   "outputs": [
    {
     "data": {
      "text/plain": [
       "[3, 7, 4, 6, 2]"
      ]
     },
     "execution_count": 86,
     "metadata": {},
     "output_type": "execute_result"
    }
   ],
   "source": [
    "[randint(1,10) for i in range(5)]"
   ]
  },
  {
   "cell_type": "code",
   "execution_count": 87,
   "id": "0ffab2ed",
   "metadata": {},
   "outputs": [
    {
     "name": "stdout",
     "output_type": "stream",
     "text": [
      "2\n",
      "[1, 9, 8, 7, 6]\n",
      "[4, 2, 8, 10, 3, 9, 1, 7, 6, 5]\n"
     ]
    }
   ],
   "source": [
    "from random import choice, sample\n",
    "\n",
    "my_list = [1, 2, 3, 4, 5, 6, 7, 8, 9, 10]\n",
    "\n",
    "print(choice(my_list))\n",
    "print(sample(my_list, 5))from platform import platform\n",
    "\n",
    "print(platform())\n",
    "print(platform(1))\n",
    "print(platform(0, 1))\n",
    "\n",
    "print(sample(my_list, 10))\n",
    "\n"
   ]
  },
  {
   "cell_type": "code",
   "execution_count": 88,
   "id": "1a359e4a",
   "metadata": {},
   "outputs": [
    {
     "name": "stdout",
     "output_type": "stream",
     "text": [
      "Linux-5.15.108-18910-gab0e1cb584e1-aarch64-with-glibc2.31\n",
      "Linux-5.15.108-18910-gab0e1cb584e1-aarch64-with-glibc2.31\n",
      "Linux-5.15.108-18910-gab0e1cb584e1-aarch64-with-glibc2.31\n"
     ]
    }
   ],
   "source": [
    "from platform import platform\n",
    "\n",
    "print(platform())\n",
    "print(platform(0, 0))\n",
    "print(platform(1, 0))\n",
    "print(platform(0, 1))\n",
    "print(platform(1, 1))\n"
   ]
  },
  {
   "cell_type": "code",
   "execution_count": null,
   "id": "307f6c7d",
   "metadata": {},
   "outputs": [],
   "source": [
    "print(platform(0, 0))"
   ]
  },
  {
   "cell_type": "code",
   "execution_count": 89,
   "id": "3ac77d82",
   "metadata": {},
   "outputs": [
    {
     "data": {
      "text/plain": [
       "'Linux-5.15.108-18910-gab0e1cb584e1-aarch64-with-glibc2.31'"
      ]
     },
     "execution_count": 89,
     "metadata": {},
     "output_type": "execute_result"
    }
   ],
   "source": [
    "platform(aliased = False, terse = False)\n"
   ]
  },
  {
   "cell_type": "code",
   "execution_count": 96,
   "id": "2bd10eac",
   "metadata": {},
   "outputs": [
    {
     "name": "stdout",
     "output_type": "stream",
     "text": [
      "aarch64\n"
     ]
    }
   ],
   "source": [
    "from platform import machine\n",
    "\n",
    "print(machine())\n"
   ]
  },
  {
   "cell_type": "code",
   "execution_count": 101,
   "id": "bd8602fc",
   "metadata": {},
   "outputs": [
    {
     "name": "stdout",
     "output_type": "stream",
     "text": [
      "\n"
     ]
    }
   ],
   "source": [
    "from platform import processor\n",
    "\n",
    "print(processor())\n"
   ]
  },
  {
   "cell_type": "code",
   "execution_count": 100,
   "id": "4af65dca",
   "metadata": {},
   "outputs": [
    {
     "name": "stdout",
     "output_type": "stream",
     "text": [
      "Linux\n"
     ]
    }
   ],
   "source": [
    "from platform import system\n",
    "\n",
    "print(system())\n"
   ]
  },
  {
   "cell_type": "code",
   "execution_count": 102,
   "id": "4b80f737",
   "metadata": {},
   "outputs": [
    {
     "name": "stdout",
     "output_type": "stream",
     "text": [
      "#1 SMP PREEMPT Mon Jun 26 15:11:29 PDT 2023\n"
     ]
    }
   ],
   "source": [
    "from platform import version\n",
    "\n",
    "print(version())\n"
   ]
  },
  {
   "cell_type": "code",
   "execution_count": 103,
   "id": "c88c6af7",
   "metadata": {},
   "outputs": [
    {
     "name": "stdout",
     "output_type": "stream",
     "text": [
      "CPython\n",
      "3\n",
      "9\n",
      "2\n"
     ]
    }
   ],
   "source": [
    "from platform import python_implementation, python_version_tuple\n",
    "\n",
    "print(python_implementation())\n",
    "\n",
    "for atr in python_version_tuple():\n",
    "    print(atr)\n"
   ]
  },
  {
   "cell_type": "markdown",
   "id": "8bf02aa6",
   "metadata": {},
   "source": [
    "### Link\n",
    "\n",
    "Link to Python Documentation\n",
    "[Documentation](https://docs.python.org/3/py-modindex.html)"
   ]
  },
  {
   "cell_type": "code",
   "execution_count": 104,
   "id": "6d1f74ca",
   "metadata": {},
   "outputs": [
    {
     "data": {
      "text/plain": [
       "['CLD_CONTINUED',\n",
       " 'CLD_DUMPED',\n",
       " 'CLD_EXITED',\n",
       " 'CLD_KILLED',\n",
       " 'CLD_STOPPED',\n",
       " 'CLD_TRAPPED',\n",
       " 'DirEntry',\n",
       " 'EX_CANTCREAT',\n",
       " 'EX_CONFIG',\n",
       " 'EX_DATAERR',\n",
       " 'EX_IOERR',\n",
       " 'EX_NOHOST',\n",
       " 'EX_NOINPUT',\n",
       " 'EX_NOPERM',\n",
       " 'EX_NOUSER',\n",
       " 'EX_OK',\n",
       " 'EX_OSERR',\n",
       " 'EX_OSFILE',\n",
       " 'EX_PROTOCOL',\n",
       " 'EX_SOFTWARE',\n",
       " 'EX_TEMPFAIL',\n",
       " 'EX_UNAVAILABLE',\n",
       " 'EX_USAGE',\n",
       " 'F_LOCK',\n",
       " 'F_OK',\n",
       " 'F_TEST',\n",
       " 'F_TLOCK',\n",
       " 'F_ULOCK',\n",
       " 'GRND_NONBLOCK',\n",
       " 'GRND_RANDOM',\n",
       " 'GenericAlias',\n",
       " 'MFD_ALLOW_SEALING',\n",
       " 'MFD_CLOEXEC',\n",
       " 'MFD_HUGETLB',\n",
       " 'MFD_HUGE_16GB',\n",
       " 'MFD_HUGE_16MB',\n",
       " 'MFD_HUGE_1GB',\n",
       " 'MFD_HUGE_1MB',\n",
       " 'MFD_HUGE_256MB',\n",
       " 'MFD_HUGE_2GB',\n",
       " 'MFD_HUGE_2MB',\n",
       " 'MFD_HUGE_32MB',\n",
       " 'MFD_HUGE_512KB',\n",
       " 'MFD_HUGE_512MB',\n",
       " 'MFD_HUGE_64KB',\n",
       " 'MFD_HUGE_8MB',\n",
       " 'MFD_HUGE_MASK',\n",
       " 'MFD_HUGE_SHIFT',\n",
       " 'Mapping',\n",
       " 'MutableMapping',\n",
       " 'NGROUPS_MAX',\n",
       " 'O_ACCMODE',\n",
       " 'O_APPEND',\n",
       " 'O_ASYNC',\n",
       " 'O_CLOEXEC',\n",
       " 'O_CREAT',\n",
       " 'O_DIRECT',\n",
       " 'O_DIRECTORY',\n",
       " 'O_DSYNC',\n",
       " 'O_EXCL',\n",
       " 'O_LARGEFILE',\n",
       " 'O_NDELAY',\n",
       " 'O_NOATIME',\n",
       " 'O_NOCTTY',\n",
       " 'O_NOFOLLOW',\n",
       " 'O_NONBLOCK',\n",
       " 'O_PATH',\n",
       " 'O_RDONLY',\n",
       " 'O_RDWR',\n",
       " 'O_RSYNC',\n",
       " 'O_SYNC',\n",
       " 'O_TMPFILE',\n",
       " 'O_TRUNC',\n",
       " 'O_WRONLY',\n",
       " 'POSIX_FADV_DONTNEED',\n",
       " 'POSIX_FADV_NOREUSE',\n",
       " 'POSIX_FADV_NORMAL',\n",
       " 'POSIX_FADV_RANDOM',\n",
       " 'POSIX_FADV_SEQUENTIAL',\n",
       " 'POSIX_FADV_WILLNEED',\n",
       " 'POSIX_SPAWN_CLOSE',\n",
       " 'POSIX_SPAWN_DUP2',\n",
       " 'POSIX_SPAWN_OPEN',\n",
       " 'PRIO_PGRP',\n",
       " 'PRIO_PROCESS',\n",
       " 'PRIO_USER',\n",
       " 'P_ALL',\n",
       " 'P_NOWAIT',\n",
       " 'P_NOWAITO',\n",
       " 'P_PGID',\n",
       " 'P_PID',\n",
       " 'P_PIDFD',\n",
       " 'P_WAIT',\n",
       " 'PathLike',\n",
       " 'RTLD_DEEPBIND',\n",
       " 'RTLD_GLOBAL',\n",
       " 'RTLD_LAZY',\n",
       " 'RTLD_LOCAL',\n",
       " 'RTLD_NODELETE',\n",
       " 'RTLD_NOLOAD',\n",
       " 'RTLD_NOW',\n",
       " 'RWF_DSYNC',\n",
       " 'RWF_HIPRI',\n",
       " 'RWF_NOWAIT',\n",
       " 'RWF_SYNC',\n",
       " 'R_OK',\n",
       " 'SCHED_BATCH',\n",
       " 'SCHED_FIFO',\n",
       " 'SCHED_IDLE',\n",
       " 'SCHED_OTHER',\n",
       " 'SCHED_RESET_ON_FORK',\n",
       " 'SCHED_RR',\n",
       " 'SEEK_CUR',\n",
       " 'SEEK_DATA',\n",
       " 'SEEK_END',\n",
       " 'SEEK_HOLE',\n",
       " 'SEEK_SET',\n",
       " 'ST_APPEND',\n",
       " 'ST_MANDLOCK',\n",
       " 'ST_NOATIME',\n",
       " 'ST_NODEV',\n",
       " 'ST_NODIRATIME',\n",
       " 'ST_NOEXEC',\n",
       " 'ST_NOSUID',\n",
       " 'ST_RDONLY',\n",
       " 'ST_RELATIME',\n",
       " 'ST_SYNCHRONOUS',\n",
       " 'ST_WRITE',\n",
       " 'TMP_MAX',\n",
       " 'WCONTINUED',\n",
       " 'WCOREDUMP',\n",
       " 'WEXITED',\n",
       " 'WEXITSTATUS',\n",
       " 'WIFCONTINUED',\n",
       " 'WIFEXITED',\n",
       " 'WIFSIGNALED',\n",
       " 'WIFSTOPPED',\n",
       " 'WNOHANG',\n",
       " 'WNOWAIT',\n",
       " 'WSTOPPED',\n",
       " 'WSTOPSIG',\n",
       " 'WTERMSIG',\n",
       " 'WUNTRACED',\n",
       " 'W_OK',\n",
       " 'XATTR_CREATE',\n",
       " 'XATTR_REPLACE',\n",
       " 'XATTR_SIZE_MAX',\n",
       " 'X_OK',\n",
       " '_Environ',\n",
       " '__all__',\n",
       " '__builtins__',\n",
       " '__cached__',\n",
       " '__doc__',\n",
       " '__file__',\n",
       " '__loader__',\n",
       " '__name__',\n",
       " '__package__',\n",
       " '__spec__',\n",
       " '_check_methods',\n",
       " '_execvpe',\n",
       " '_exists',\n",
       " '_exit',\n",
       " '_fspath',\n",
       " '_fwalk',\n",
       " '_get_exports_list',\n",
       " '_spawnvef',\n",
       " '_walk',\n",
       " '_wrap_close',\n",
       " 'abc',\n",
       " 'abort',\n",
       " 'access',\n",
       " 'altsep',\n",
       " 'chdir',\n",
       " 'chmod',\n",
       " 'chown',\n",
       " 'chroot',\n",
       " 'close',\n",
       " 'closerange',\n",
       " 'confstr',\n",
       " 'confstr_names',\n",
       " 'copy_file_range',\n",
       " 'cpu_count',\n",
       " 'ctermid',\n",
       " 'curdir',\n",
       " 'defpath',\n",
       " 'device_encoding',\n",
       " 'devnull',\n",
       " 'dup',\n",
       " 'dup2',\n",
       " 'environ',\n",
       " 'environb',\n",
       " 'error',\n",
       " 'execl',\n",
       " 'execle',\n",
       " 'execlp',\n",
       " 'execlpe',\n",
       " 'execv',\n",
       " 'execve',\n",
       " 'execvp',\n",
       " 'execvpe',\n",
       " 'extsep',\n",
       " 'fchdir',\n",
       " 'fchmod',\n",
       " 'fchown',\n",
       " 'fdatasync',\n",
       " 'fdopen',\n",
       " 'fork',\n",
       " 'forkpty',\n",
       " 'fpathconf',\n",
       " 'fsdecode',\n",
       " 'fsencode',\n",
       " 'fspath',\n",
       " 'fstat',\n",
       " 'fstatvfs',\n",
       " 'fsync',\n",
       " 'ftruncate',\n",
       " 'fwalk',\n",
       " 'get_blocking',\n",
       " 'get_exec_path',\n",
       " 'get_inheritable',\n",
       " 'get_terminal_size',\n",
       " 'getcwd',\n",
       " 'getcwdb',\n",
       " 'getegid',\n",
       " 'getenv',\n",
       " 'getenvb',\n",
       " 'geteuid',\n",
       " 'getgid',\n",
       " 'getgrouplist',\n",
       " 'getgroups',\n",
       " 'getloadavg',\n",
       " 'getlogin',\n",
       " 'getpgid',\n",
       " 'getpgrp',\n",
       " 'getpid',\n",
       " 'getppid',\n",
       " 'getpriority',\n",
       " 'getrandom',\n",
       " 'getresgid',\n",
       " 'getresuid',\n",
       " 'getsid',\n",
       " 'getuid',\n",
       " 'getxattr',\n",
       " 'initgroups',\n",
       " 'isatty',\n",
       " 'kill',\n",
       " 'killpg',\n",
       " 'lchown',\n",
       " 'linesep',\n",
       " 'link',\n",
       " 'listdir',\n",
       " 'listxattr',\n",
       " 'lockf',\n",
       " 'lseek',\n",
       " 'lstat',\n",
       " 'major',\n",
       " 'makedev',\n",
       " 'makedirs',\n",
       " 'memfd_create',\n",
       " 'minor',\n",
       " 'mkdir',\n",
       " 'mkfifo',\n",
       " 'mknod',\n",
       " 'name',\n",
       " 'nice',\n",
       " 'open',\n",
       " 'openpty',\n",
       " 'pardir',\n",
       " 'path',\n",
       " 'pathconf',\n",
       " 'pathconf_names',\n",
       " 'pathsep',\n",
       " 'pidfd_open',\n",
       " 'pipe',\n",
       " 'pipe2',\n",
       " 'popen',\n",
       " 'posix_fadvise',\n",
       " 'posix_fallocate',\n",
       " 'posix_spawn',\n",
       " 'posix_spawnp',\n",
       " 'pread',\n",
       " 'preadv',\n",
       " 'putenv',\n",
       " 'pwrite',\n",
       " 'pwritev',\n",
       " 'read',\n",
       " 'readlink',\n",
       " 'readv',\n",
       " 'register_at_fork',\n",
       " 'remove',\n",
       " 'removedirs',\n",
       " 'removexattr',\n",
       " 'rename',\n",
       " 'renames',\n",
       " 'replace',\n",
       " 'rmdir',\n",
       " 'scandir',\n",
       " 'sched_get_priority_max',\n",
       " 'sched_get_priority_min',\n",
       " 'sched_getaffinity',\n",
       " 'sched_getparam',\n",
       " 'sched_getscheduler',\n",
       " 'sched_param',\n",
       " 'sched_rr_get_interval',\n",
       " 'sched_setaffinity',\n",
       " 'sched_setparam',\n",
       " 'sched_setscheduler',\n",
       " 'sched_yield',\n",
       " 'sendfile',\n",
       " 'sep',\n",
       " 'set_blocking',\n",
       " 'set_inheritable',\n",
       " 'setegid',\n",
       " 'seteuid',\n",
       " 'setgid',\n",
       " 'setgroups',\n",
       " 'setpgid',\n",
       " 'setpgrp',\n",
       " 'setpriority',\n",
       " 'setregid',\n",
       " 'setresgid',\n",
       " 'setresuid',\n",
       " 'setreuid',\n",
       " 'setsid',\n",
       " 'setuid',\n",
       " 'setxattr',\n",
       " 'spawnl',\n",
       " 'spawnle',\n",
       " 'spawnlp',\n",
       " 'spawnlpe',\n",
       " 'spawnv',\n",
       " 'spawnve',\n",
       " 'spawnvp',\n",
       " 'spawnvpe',\n",
       " 'st',\n",
       " 'stat',\n",
       " 'stat_result',\n",
       " 'statvfs',\n",
       " 'statvfs_result',\n",
       " 'strerror',\n",
       " 'supports_bytes_environ',\n",
       " 'supports_dir_fd',\n",
       " 'supports_effective_ids',\n",
       " 'supports_fd',\n",
       " 'supports_follow_symlinks',\n",
       " 'symlink',\n",
       " 'sync',\n",
       " 'sys',\n",
       " 'sysconf',\n",
       " 'sysconf_names',\n",
       " 'system',\n",
       " 'tcgetpgrp',\n",
       " 'tcsetpgrp',\n",
       " 'terminal_size',\n",
       " 'times',\n",
       " 'times_result',\n",
       " 'truncate',\n",
       " 'ttyname',\n",
       " 'umask',\n",
       " 'uname',\n",
       " 'uname_result',\n",
       " 'unlink',\n",
       " 'unsetenv',\n",
       " 'urandom',\n",
       " 'utime',\n",
       " 'wait',\n",
       " 'wait3',\n",
       " 'wait4',\n",
       " 'waitid',\n",
       " 'waitid_result',\n",
       " 'waitpid',\n",
       " 'waitstatus_to_exitcode',\n",
       " 'walk',\n",
       " 'write',\n",
       " 'writev']"
      ]
     },
     "execution_count": 104,
     "metadata": {},
     "output_type": "execute_result"
    }
   ],
   "source": [
    "import os\n",
    "dir(os)\n"
   ]
  },
  {
   "cell_type": "code",
   "execution_count": 106,
   "id": "d4f3ee1e",
   "metadata": {},
   "outputs": [
    {
     "data": {
      "text/plain": [
       "'__main__'"
      ]
     },
     "execution_count": 106,
     "metadata": {},
     "output_type": "execute_result"
    }
   ],
   "source": [
    "__name__"
   ]
  },
  {
   "cell_type": "code",
   "execution_count": 107,
   "id": "bdabc66a",
   "metadata": {},
   "outputs": [
    {
     "name": "stdout",
     "output_type": "stream",
     "text": [
      "/home/linux/Downloads\n",
      "/usr/lib/python39.zip\n",
      "/usr/lib/python3.9\n",
      "/usr/lib/python3.9/lib-dynload\n",
      "\n",
      "/home/linux/.local/lib/python3.9/site-packages\n",
      "/usr/local/lib/python3.9/dist-packages\n",
      "/usr/lib/python3/dist-packages\n"
     ]
    }
   ],
   "source": [
    "import sys\n",
    "\n",
    "for p in sys.path:\n",
    "    print(p)"
   ]
  },
  {
   "cell_type": "code",
   "execution_count": 108,
   "id": "a8088ba7",
   "metadata": {},
   "outputs": [
    {
     "data": {
      "text/plain": [
       "['/home/linux/Downloads',\n",
       " '/usr/lib/python39.zip',\n",
       " '/usr/lib/python3.9',\n",
       " '/usr/lib/python3.9/lib-dynload',\n",
       " '',\n",
       " '/home/linux/.local/lib/python3.9/site-packages',\n",
       " '/usr/local/lib/python3.9/dist-packages',\n",
       " '/usr/lib/python3/dist-packages']"
      ]
     },
     "execution_count": 108,
     "metadata": {},
     "output_type": "execute_result"
    }
   ],
   "source": [
    "sys.path"
   ]
  },
  {
   "cell_type": "code",
   "execution_count": 109,
   "id": "d45610cb",
   "metadata": {},
   "outputs": [
    {
     "data": {
      "text/plain": [
       "'D:\\\\folder\\\\name\\\\file.txt'"
      ]
     },
     "execution_count": 109,
     "metadata": {},
     "output_type": "execute_result"
    }
   ],
   "source": [
    "r'D:\\folder\\name\\file.txt'"
   ]
  },
  {
   "cell_type": "code",
   "execution_count": 117,
   "id": "c4eccda7",
   "metadata": {},
   "outputs": [],
   "source": [
    "from sys import path"
   ]
  },
  {
   "cell_type": "code",
   "execution_count": 118,
   "id": "ac205e07",
   "metadata": {},
   "outputs": [
    {
     "data": {
      "text/plain": [
       "['/home/linux/Downloads',\n",
       " '/usr/lib/python39.zip',\n",
       " '/usr/lib/python3.9',\n",
       " '/usr/lib/python3.9/lib-dynload',\n",
       " '',\n",
       " '/home/linux/.local/lib/python3.9/site-packages',\n",
       " '/usr/local/lib/python3.9/dist-packages',\n",
       " '/usr/lib/python3/dist-packages']"
      ]
     },
     "execution_count": 118,
     "metadata": {},
     "output_type": "execute_result"
    }
   ],
   "source": [
    "path"
   ]
  },
  {
   "cell_type": "code",
   "execution_count": 119,
   "id": "6820ced0",
   "metadata": {},
   "outputs": [
    {
     "name": "stdout",
     "output_type": "stream",
     "text": [
      "\r\n",
      "Usage:   \r\n",
      "  pip <command> [options]\r\n",
      "\r\n",
      "Commands:\r\n",
      "  install                     Install packages.\r\n",
      "  download                    Download packages.\r\n",
      "  uninstall                   Uninstall packages.\r\n",
      "  freeze                      Output installed packages in requirements format.\r\n",
      "  list                        List installed packages.\r\n",
      "  show                        Show information about installed packages.\r\n",
      "  check                       Verify installed packages have compatible dependencies.\r\n",
      "  config                      Manage local and global configuration.\r\n",
      "  search                      Search PyPI for packages.\r\n",
      "  cache                       Inspect and manage pip's wheel cache.\r\n",
      "  wheel                       Build wheels from your requirements.\r\n",
      "  hash                        Compute hashes of package archives.\r\n",
      "  completion                  A helper command used for command completion.\r\n",
      "  debug                       Show information useful for debugging.\r\n",
      "  help                        Show help for commands.\r\n",
      "\r\n",
      "General Options:\r\n",
      "  -h, --help                  Show help.\r\n",
      "  --isolated                  Run pip in an isolated mode, ignoring\r\n",
      "                              environment variables and user configuration.\r\n",
      "  -v, --verbose               Give more output. Option is additive, and can be\r\n",
      "                              used up to 3 times.\r\n",
      "  -V, --version               Show version and exit.\r\n",
      "  -q, --quiet                 Give less output. Option is additive, and can be\r\n",
      "                              used up to 3 times (corresponding to WARNING,\r\n",
      "                              ERROR, and CRITICAL logging levels).\r\n",
      "  --log <path>                Path to a verbose appending log.\r\n",
      "  --no-input                  Disable prompting for input.\r\n",
      "  --proxy <proxy>             Specify a proxy in the form\r\n",
      "                              [user:passwd@]proxy.server:port.\r\n",
      "  --retries <retries>         Maximum number of retries each connection should\r\n",
      "                              attempt (default 5 times).\r\n",
      "  --timeout <sec>             Set the socket timeout (default 15 seconds).\r\n",
      "  --exists-action <action>    Default action when a path already exists:\r\n",
      "                              (s)witch, (i)gnore, (w)ipe, (b)ackup, (a)bort.\r\n",
      "  --trusted-host <hostname>   Mark this host or host:port pair as trusted,\r\n",
      "                              even though it does not have valid or any HTTPS.\r\n",
      "  --cert <path>               Path to alternate CA bundle.\r\n",
      "  --client-cert <path>        Path to SSL client certificate, a single file\r\n",
      "                              containing the private key and the certificate\r\n",
      "                              in PEM format.\r\n",
      "  --cache-dir <dir>           Store the cache data in <dir>.\r\n",
      "  --no-cache-dir              Disable the cache.\r\n",
      "  --disable-pip-version-check\r\n",
      "                              Don't periodically check PyPI to determine\r\n",
      "                              whether a new version of pip is available for\r\n",
      "                              download. Implied with --no-index.\r\n",
      "  --no-color                  Suppress colored output.\r\n",
      "  --no-python-version-warning\r\n",
      "                              Silence deprecation warnings for upcoming\r\n",
      "                              unsupported Pythons.\r\n",
      "  --use-feature <feature>     Enable new functionality, that may be backward\r\n",
      "                              incompatible.\r\n",
      "  --use-deprecated <feature>  Enable deprecated functionality, that will be\r\n",
      "                              removed in the future.\r\n"
     ]
    }
   ],
   "source": [
    "!pip help"
   ]
  },
  {
   "cell_type": "code",
   "execution_count": 121,
   "id": "62c3a915",
   "metadata": {},
   "outputs": [
    {
     "name": "stdout",
     "output_type": "stream",
     "text": [
      "\r\n",
      "Usage:   \r\n",
      "  pip install [options] <requirement specifier> [package-index-options] ...\r\n",
      "  pip install [options] -r <requirements file> [package-index-options] ...\r\n",
      "  pip install [options] [-e] <vcs project url> ...\r\n",
      "  pip install [options] [-e] <local project path> ...\r\n",
      "  pip install [options] <archive url/path> ...\r\n",
      "\r\n",
      "Description:\r\n",
      "  Install packages from:\r\n",
      "  \r\n",
      "  - PyPI (and other indexes) using requirement specifiers.\r\n",
      "  - VCS project urls.\r\n",
      "  - Local project directories.\r\n",
      "  - Local or remote source archives.\r\n",
      "  \r\n",
      "  pip also supports installing from \"requirements files\", which provide\r\n",
      "  an easy way to specify a whole environment to be installed.\r\n",
      "\r\n",
      "Install Options:\r\n",
      "  -r, --requirement <file>    Install from the given requirements file. This\r\n",
      "                              option can be used multiple times.\r\n",
      "  -c, --constraint <file>     Constrain versions using the given constraints\r\n",
      "                              file. This option can be used multiple times.\r\n",
      "  --no-deps                   Don't install package dependencies.\r\n",
      "  --pre                       Include pre-release and development versions. By\r\n",
      "                              default, pip only finds stable versions.\r\n",
      "  -e, --editable <path/url>   Install a project in editable mode (i.e.\r\n",
      "                              setuptools \"develop mode\") from a local project\r\n",
      "                              path or a VCS url.\r\n",
      "  -t, --target <dir>          Install packages into <dir>. By default this\r\n",
      "                              will not replace existing files/folders in\r\n",
      "                              <dir>. Use --upgrade to replace existing\r\n",
      "                              packages in <dir> with new versions.\r\n",
      "  --platform <platform>       Only use wheels compatible with <platform>.\r\n",
      "                              Defaults to the platform of the running system.\r\n",
      "                              Use this option multiple times to specify\r\n",
      "                              multiple platforms supported by the target\r\n",
      "                              interpreter.\r\n",
      "  --python-version <python_version>\r\n",
      "                              The Python interpreter version to use for wheel\r\n",
      "                              and \"Requires-Python\" compatibility checks.\r\n",
      "                              Defaults to a version derived from the running\r\n",
      "                              interpreter. The version can be specified using\r\n",
      "                              up to three dot-separated integers (e.g. \"3\" for\r\n",
      "                              3.0.0, \"3.7\" for 3.7.0, or \"3.7.3\"). A major-\r\n",
      "                              minor version can also be given as a string\r\n",
      "                              without dots (e.g. \"37\" for 3.7.0).\r\n",
      "  --implementation <implementation>\r\n",
      "                              Only use wheels compatible with Python\r\n",
      "                              implementation <implementation>, e.g. 'pp',\r\n",
      "                              'jy', 'cp',  or 'ip'. If not specified, then the\r\n",
      "                              current interpreter implementation is used.  Use\r\n",
      "                              'py' to force implementation-agnostic wheels.\r\n",
      "  --abi <abi>                 Only use wheels compatible with Python abi\r\n",
      "                              <abi>, e.g. 'pypy_41'. If not specified, then\r\n",
      "                              the current interpreter abi tag is used. Use\r\n",
      "                              this option multiple times to specify multiple\r\n",
      "                              abis supported by the target interpreter.\r\n",
      "                              Generally you will need to specify\r\n",
      "                              --implementation, --platform, and --python-\r\n",
      "                              version when using this option.\r\n",
      "  --user                      Install to the Python user install directory for\r\n",
      "                              your platform. Typically ~/.local/, or\r\n",
      "                              %APPDATA%\\Python on Windows. (See the Python\r\n",
      "                              documentation for site.USER_BASE for full\r\n",
      "                              details.)  On Debian systems, this is the\r\n",
      "                              default when running outside of a virtual\r\n",
      "                              environment and not as root.\r\n",
      "  --root <dir>                Install everything relative to this alternate\r\n",
      "                              root directory.\r\n",
      "  --prefix <dir>              Installation prefix where lib, bin and other\r\n",
      "                              top-level folders are placed\r\n",
      "  --system                    Install using the system scheme (overrides\r\n",
      "                              --user on Debian systems)\r\n",
      "  --src <dir>                 Directory to check out editable projects into.\r\n",
      "                              The default in a virtualenv is \"<venv\r\n",
      "                              path>/src\". The default for global installs is\r\n",
      "                              \"<current dir>/src\".\r\n",
      "  -U, --upgrade               Upgrade all specified packages to the newest\r\n",
      "                              available version. The handling of dependencies\r\n",
      "                              depends on the upgrade-strategy used.\r\n",
      "  --upgrade-strategy <upgrade_strategy>\r\n",
      "                              Determines how dependency upgrading should be\r\n",
      "                              handled [default: only-if-needed]. \"eager\" -\r\n",
      "                              dependencies are upgraded regardless of whether\r\n",
      "                              the currently installed version satisfies the\r\n",
      "                              requirements of the upgraded package(s). \"only-\r\n",
      "                              if-needed\" -  are upgraded only when they do not\r\n",
      "                              satisfy the requirements of the upgraded\r\n",
      "                              package(s).\r\n",
      "  --force-reinstall           Reinstall all packages even if they are already\r\n",
      "                              up-to-date.\r\n",
      "  -I, --ignore-installed      Ignore the installed packages, overwriting them.\r\n",
      "                              This can break your system if the existing\r\n",
      "                              package is of a different version or was\r\n",
      "                              installed with a different package manager!\r\n",
      "  --ignore-requires-python    Ignore the Requires-Python information.\r\n",
      "  --no-build-isolation        Disable isolation when building a modern source\r\n",
      "                              distribution. Build dependencies specified by\r\n",
      "                              PEP 518 must be already installed if this option\r\n",
      "                              is used.\r\n",
      "  --use-pep517                Use PEP 517 for building source distributions\r\n",
      "                              (use --no-use-pep517 to force legacy behaviour).\r\n",
      "  --install-option <options>  Extra arguments to be supplied to the setup.py\r\n",
      "                              install command (use like --install-option=\"--\r\n",
      "                              install-scripts=/usr/local/bin\"). Use multiple\r\n",
      "                              --install-option options to pass multiple\r\n",
      "                              options to setup.py install. If you are using an\r\n",
      "                              option with a directory path, be sure to use\r\n",
      "                              absolute path.\r\n",
      "  --global-option <options>   Extra global options to be supplied to the\r\n",
      "                              setup.py call before the install command.\r\n",
      "  --compile                   Compile Python source files to bytecode\r\n",
      "  --no-compile                Do not compile Python source files to bytecode\r\n",
      "  --no-warn-script-location   Do not warn when installing scripts outside PATH\r\n",
      "  --no-warn-conflicts         Do not warn about broken dependencies\r\n",
      "  --no-binary <format_control>\r\n",
      "                              Do not use binary packages. Can be supplied\r\n",
      "                              multiple times, and each time adds to the\r\n",
      "                              existing value. Accepts either \":all:\" to\r\n",
      "                              disable all binary packages, \":none:\" to empty\r\n",
      "                              the set (notice the colons), or one or more\r\n",
      "                              package names with commas between them (no\r\n",
      "                              colons). Note that some packages are tricky to\r\n",
      "                              compile and may fail to install when this option\r\n",
      "                              is used on them.\r\n",
      "  --only-binary <format_control>\r\n",
      "                              Do not use source packages. Can be supplied\r\n",
      "                              multiple times, and each time adds to the\r\n",
      "                              existing value. Accepts either \":all:\" to\r\n",
      "                              disable all source packages, \":none:\" to empty\r\n",
      "                              the set, or one or more package names with\r\n",
      "                              commas between them. Packages without binary\r\n",
      "                              distributions will fail to install when this\r\n",
      "                              option is used on them.\r\n",
      "  --prefer-binary             Prefer older binary packages over newer source\r\n",
      "                              packages.\r\n",
      "  --require-hashes            Require a hash to check each requirement\r\n",
      "                              against, for repeatable installs. This option is\r\n",
      "                              implied when any package in a requirements file\r\n",
      "                              has a --hash option.\r\n",
      "  --progress-bar <progress_bar>\r\n",
      "                              Specify type of progress to be displayed\r\n",
      "                              [off|on|ascii|pretty|emoji] (default: on)\r\n",
      "  --no-clean                  Don't clean up build directories.\r\n",
      "\r\n",
      "Package Index Options:\r\n",
      "  -i, --index-url <url>       Base URL of the Python Package Index (default\r\n",
      "                              https://pypi.org/simple). This should point to a\r\n",
      "                              repository compliant with PEP 503 (the simple\r\n",
      "                              repository API) or a local directory laid out in\r\n",
      "                              the same format.\r\n",
      "  --extra-index-url <url>     Extra URLs of package indexes to use in addition\r\n",
      "                              to --index-url. Should follow the same rules as\r\n",
      "                              --index-url.\r\n",
      "  --no-index                  Ignore package index (only looking at --find-\r\n",
      "                              links URLs instead).\r\n",
      "  -f, --find-links <url>      If a URL or path to an html file, then parse for\r\n",
      "                              links to archives such as sdist (.tar.gz) or\r\n",
      "                              wheel (.whl) files. If a local path or file://\r\n",
      "                              URL that's a directory,  then look for archives\r\n",
      "                              in the directory listing. Links to VCS project\r\n",
      "                              URLs are not supported.\r\n",
      "\r\n",
      "General Options:\r\n",
      "  -h, --help                  Show help.\r\n",
      "  --isolated                  Run pip in an isolated mode, ignoring\r\n",
      "                              environment variables and user configuration.\r\n",
      "  -v, --verbose               Give more output. Option is additive, and can be\r\n",
      "                              used up to 3 times.\r\n",
      "  -V, --version               Show version and exit.\r\n",
      "  -q, --quiet                 Give less output. Option is additive, and can be\r\n",
      "                              used up to 3 times (corresponding to WARNING,\r\n",
      "                              ERROR, and CRITICAL logging levels).\r\n",
      "  --log <path>                Path to a verbose appending log.\r\n",
      "  --no-input                  Disable prompting for input.\r\n",
      "  --proxy <proxy>             Specify a proxy in the form\r\n",
      "                              [user:passwd@]proxy.server:port.\r\n",
      "  --retries <retries>         Maximum number of retries each connection should\r\n",
      "                              attempt (default 5 times).\r\n",
      "  --timeout <sec>             Set the socket timeout (default 15 seconds).\r\n",
      "  --exists-action <action>    Default action when a path already exists:\r\n",
      "                              (s)witch, (i)gnore, (w)ipe, (b)ackup, (a)bort.\r\n",
      "  --trusted-host <hostname>   Mark this host or host:port pair as trusted,\r\n",
      "                              even though it does not have valid or any HTTPS.\r\n",
      "  --cert <path>               Path to alternate CA bundle.\r\n",
      "  --client-cert <path>        Path to SSL client certificate, a single file\r\n",
      "                              containing the private key and the certificate\r\n",
      "                              in PEM format.\r\n",
      "  --cache-dir <dir>           Store the cache data in <dir>.\r\n",
      "  --no-cache-dir              Disable the cache.\r\n",
      "  --disable-pip-version-check\r\n",
      "                              Don't periodically check PyPI to determine\r\n",
      "                              whether a new version of pip is available for\r\n",
      "                              download. Implied with --no-index.\r\n",
      "  --no-color                  Suppress colored output.\r\n",
      "  --no-python-version-warning\r\n",
      "                              Silence deprecation warnings for upcoming\r\n",
      "                              unsupported Pythons.\r\n",
      "  --use-feature <feature>     Enable new functionality, that may be backward\r\n",
      "                              incompatible.\r\n",
      "  --use-deprecated <feature>  Enable deprecated functionality, that will be\r\n",
      "                              removed in the future.\r\n"
     ]
    }
   ],
   "source": [
    "!pip help install"
   ]
  },
  {
   "cell_type": "code",
   "execution_count": 122,
   "id": "cece7185",
   "metadata": {},
   "outputs": [
    {
     "name": "stdout",
     "output_type": "stream",
     "text": [
      "Name: pip\r\n",
      "Version: 20.3.4\r\n",
      "Summary: The PyPA recommended tool for installing Python packages.\r\n",
      "Home-page: https://pip.pypa.io/\r\n",
      "Author: The pip developers\r\n",
      "Author-email: distutils-sig@python.org\r\n",
      "License: MIT\r\n",
      "Location: /usr/lib/python3/dist-packages\r\n",
      "Requires: \r\n",
      "Required-by: \r\n"
     ]
    }
   ],
   "source": [
    "!pip show pip"
   ]
  },
  {
   "cell_type": "code",
   "execution_count": 123,
   "id": "e85652cd",
   "metadata": {},
   "outputs": [
    {
     "name": "stdout",
     "output_type": "stream",
     "text": [
      "\u001b[31mERROR: XMLRPC request failed [code: -32500]\r\n",
      "RuntimeError: PyPI no longer supports 'pip search' (or XML-RPC search). Please use https://pypi.org/search (via a browser) instead. See https://warehouse.pypa.io/api-reference/xml-rpc.html#deprecated-methods for more information.\u001b[0m\r\n"
     ]
    }
   ],
   "source": [
    "!pip search tqdm"
   ]
  },
  {
   "cell_type": "code",
   "execution_count": 124,
   "id": "71437ea7",
   "metadata": {},
   "outputs": [
    {
     "name": "stdout",
     "output_type": "stream",
     "text": [
      "\u001b[33mWARNING: Package(s) not found: pygame\u001b[0m\r\n"
     ]
    }
   ],
   "source": [
    "!pip show pygame"
   ]
  },
  {
   "cell_type": "code",
   "execution_count": 125,
   "id": "43766cbb",
   "metadata": {},
   "outputs": [
    {
     "name": "stdout",
     "output_type": "stream",
     "text": [
      "Package                  Version\r\n",
      "------------------------ ---------\r\n",
      "anyio                    3.6.2\r\n",
      "argon2-cffi              21.3.0\r\n",
      "argon2-cffi-bindings     21.2.0\r\n",
      "arrow                    1.2.3\r\n",
      "asttokens                2.2.1\r\n",
      "async-generator          1.10\r\n",
      "attrs                    23.1.0\r\n",
      "backcall                 0.2.0\r\n",
      "beautifulsoup4           4.12.2\r\n",
      "bleach                   6.0.0\r\n",
      "certifi                  2022.12.7\r\n",
      "cffi                     1.15.1\r\n",
      "charset-normalizer       3.1.0\r\n",
      "comm                     0.1.3\r\n",
      "dbus-python              1.2.16\r\n",
      "debugpy                  1.6.7\r\n",
      "decorator                5.1.1\r\n",
      "defusedxml               0.7.1\r\n",
      "distro-info              1.0\r\n",
      "exceptiongroup           1.1.1\r\n",
      "executing                1.2.0\r\n",
      "fastjsonschema           2.16.3\r\n",
      "fqdn                     1.5.1\r\n",
      "h11                      0.14.0\r\n",
      "idna                     3.4\r\n",
      "importlib-metadata       6.6.0\r\n",
      "ipykernel                6.22.0\r\n",
      "ipython                  8.13.1\r\n",
      "ipython-genutils         0.2.0\r\n",
      "isoduration              20.11.0\r\n",
      "jedi                     0.18.2\r\n",
      "Jinja2                   3.1.2\r\n",
      "joblib                   1.3.1\r\n",
      "jsonpointer              2.3\r\n",
      "jsonschema               4.17.3\r\n",
      "jupyter-client           8.2.0\r\n",
      "jupyter-core             5.3.0\r\n",
      "jupyter-events           0.6.3\r\n",
      "jupyter-server           2.5.0\r\n",
      "jupyter-server-terminals 0.4.4\r\n",
      "jupyterlab-pygments      0.2.2\r\n",
      "MarkupSafe               2.1.2\r\n",
      "matplotlib-inline        0.1.6\r\n",
      "mistune                  2.0.5\r\n",
      "nbclassic                0.5.6\r\n",
      "nbclient                 0.7.4\r\n",
      "nbconvert                7.3.1\r\n",
      "nbformat                 5.8.0\r\n",
      "nest-asyncio             1.5.6\r\n",
      "notebook                 6.5.4\r\n",
      "notebook-shim            0.2.3\r\n",
      "numpy                    1.24.3\r\n",
      "outcome                  1.2.0\r\n",
      "packaging                23.1\r\n",
      "pandas                   2.0.1\r\n",
      "pandocfilters            1.5.0\r\n",
      "parso                    0.8.3\r\n",
      "pexpect                  4.8.0\r\n",
      "pickleshare              0.7.5\r\n",
      "pip                      20.3.4\r\n",
      "platformdirs             3.5.0\r\n",
      "prometheus-client        0.16.0\r\n",
      "prompt-toolkit           3.0.38\r\n",
      "psutil                   5.9.5\r\n",
      "ptyprocess               0.7.0\r\n",
      "pure-eval                0.2.2\r\n",
      "pycparser                2.21\r\n",
      "pycurl                   7.43.0.6\r\n",
      "Pygments                 2.15.1\r\n",
      "PyGObject                3.38.0\r\n",
      "pyrsistent               0.19.3\r\n",
      "PySocks                  1.7.1\r\n",
      "python-apt               2.2.1\r\n",
      "python-dateutil          2.8.2\r\n",
      "python-dotenv            1.0.0\r\n",
      "python-json-logger       2.0.7\r\n",
      "pytz                     2023.3\r\n",
      "PyYAML                   6.0\r\n",
      "pyzmq                    25.0.2\r\n",
      "requests                 2.30.0\r\n",
      "rfc3339-validator        0.1.4\r\n",
      "rfc3986-validator        0.1.1\r\n",
      "scikit-learn             1.3.0\r\n",
      "scipy                    1.11.1\r\n",
      "selenium                 4.9.0\r\n",
      "Send2Trash               1.8.2\r\n",
      "setuptools               52.0.0\r\n",
      "six                      1.16.0\r\n",
      "sniffio                  1.3.0\r\n",
      "sortedcontainers         2.4.0\r\n",
      "soupsieve                2.4.1\r\n",
      "stack-data               0.6.2\r\n",
      "terminado                0.17.1\r\n",
      "threadpoolctl            3.2.0\r\n",
      "tinycss2                 1.2.1\r\n",
      "tornado                  6.3.1\r\n",
      "tqdm                     4.65.0\r\n",
      "traitlets                5.9.0\r\n",
      "trio                     0.22.0\r\n",
      "trio-websocket           0.10.2\r\n",
      "typing-extensions        4.5.0\r\n",
      "tzdata                   2023.3\r\n",
      "unattended-upgrades      0.1\r\n",
      "uri-template             1.2.0\r\n",
      "urllib3                  1.26.15\r\n",
      "wcwidth                  0.2.6\r\n",
      "webcolors                1.13\r\n",
      "webdriver-manager        3.8.6\r\n",
      "webencodings             0.5.1\r\n",
      "websocket-client         1.5.1\r\n",
      "wheel                    0.34.2\r\n",
      "wsproto                  1.2.0\r\n",
      "zipp                     3.15.0\r\n"
     ]
    }
   ],
   "source": [
    "!pip list"
   ]
  },
  {
   "cell_type": "markdown",
   "id": "f4dea482",
   "metadata": {},
   "source": [
    "### List of main pip activities looks as follows:\n",
    "\n",
    "- pip help operation - shows brief pip's description;\n",
    "- pip list - shows list of currently installed packages;\n",
    "- pip show package_name - shows package_name info including package's dependencies;\n",
    "- pip search anystring - searches through PyPI directories in order to find packages which name contains anystring;\n",
    "- pip install name - installs name system-wide (expect problems when you don't have administrative rights);\n",
    "- pip install --user name - install name for you only; no other your platform's user will be able to use it;\n",
    "- pip install -U name - updates previously installed package;\n",
    "- pip uninstall name - uninstalls previously installed package;"
   ]
  },
  {
   "cell_type": "code",
   "execution_count": 126,
   "id": "b270b7f9",
   "metadata": {},
   "outputs": [
    {
     "name": "stdout",
     "output_type": "stream",
     "text": [
      "pip 20.3.4 from /usr/lib/python3/dist-packages/pip (python 3.9)\r\n"
     ]
    }
   ],
   "source": [
    "!pip --version"
   ]
  },
  {
   "cell_type": "code",
   "execution_count": 127,
   "id": "4be71ce8",
   "metadata": {},
   "outputs": [
    {
     "name": "stdout",
     "output_type": "stream",
     "text": [
      "ERROR: unknown command \"version\"\r\n"
     ]
    }
   ],
   "source": [
    "!pip version"
   ]
  },
  {
   "cell_type": "code",
   "execution_count": 128,
   "id": "35e6b4b3",
   "metadata": {},
   "outputs": [
    {
     "name": "stdout",
     "output_type": "stream",
     "text": [
      "\r\n",
      "Usage:   \r\n",
      "  pip <command> [options]\r\n",
      "\r\n",
      "no such option: -e\r\n"
     ]
    }
   ],
   "source": [
    "!pip -version"
   ]
  },
  {
   "cell_type": "code",
   "execution_count": null,
   "id": "568e8238",
   "metadata": {},
   "outputs": [],
   "source": []
  },
  {
   "cell_type": "code",
   "execution_count": null,
   "id": "a00d7b6f",
   "metadata": {},
   "outputs": [],
   "source": []
  },
  {
   "cell_type": "code",
   "execution_count": null,
   "id": "d9965ef2",
   "metadata": {},
   "outputs": [],
   "source": []
  }
 ],
 "metadata": {
  "kernelspec": {
   "display_name": "Python 3 (ipykernel)",
   "language": "python",
   "name": "python3"
  },
  "language_info": {
   "codemirror_mode": {
    "name": "ipython",
    "version": 3
   },
   "file_extension": ".py",
   "mimetype": "text/x-python",
   "name": "python",
   "nbconvert_exporter": "python",
   "pygments_lexer": "ipython3",
   "version": "3.9.2"
  }
 },
 "nbformat": 4,
 "nbformat_minor": 5
}
